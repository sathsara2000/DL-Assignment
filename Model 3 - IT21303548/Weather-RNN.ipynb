{
 "cells": [
  {
   "cell_type": "markdown",
   "metadata": {
    "id": "JdGT2ozcxifi"
   },
   "source": []
  },
  {
   "cell_type": "markdown",
   "metadata": {
    "id": "pE4e9nFwBKu3"
   },
   "source": [
    "# RNN  Model"
   ]
  },
  {
   "cell_type": "code",
   "execution_count": 17,
   "metadata": {
    "id": "dDk_XS4Oxg7C"
   },
   "outputs": [],
   "source": [
    "import numpy as np\n",
    "import pandas as pd\n",
    "from sklearn.preprocessing import MinMaxScaler\n",
    "from tensorflow.keras.models import Sequential\n",
    "from tensorflow.keras.layers import Dense, SimpleRNN\n",
    "from tensorflow.keras.optimizers import Adam\n",
    "from sklearn.metrics import mean_squared_error, mean_absolute_error\n",
    "import matplotlib.pyplot as plt"
   ]
  },
  {
   "cell_type": "markdown",
   "metadata": {
    "id": "RavRwdXlyJZ_"
   },
   "source": [
    "Import the dataset"
   ]
  },
  {
   "cell_type": "code",
   "execution_count": 2,
   "metadata": {
    "id": "EGjDLzNhyLYs"
   },
   "outputs": [],
   "source": [
    "weather_data = pd.read_csv('preprocessed_weather.csv')"
   ]
  },
  {
   "cell_type": "markdown",
   "metadata": {
    "id": "cBFiKLJgyWcr"
   },
   "source": [
    "Display the first few rows of the data"
   ]
  },
  {
   "cell_type": "code",
   "execution_count": 4,
   "metadata": {
    "id": "oUKekV03ycgh",
    "scrolled": true
   },
   "outputs": [
    {
     "data": {
      "text/html": [
       "<div>\n",
       "<style scoped>\n",
       "    .dataframe tbody tr th:only-of-type {\n",
       "        vertical-align: middle;\n",
       "    }\n",
       "\n",
       "    .dataframe tbody tr th {\n",
       "        vertical-align: top;\n",
       "    }\n",
       "\n",
       "    .dataframe thead th {\n",
       "        text-align: right;\n",
       "    }\n",
       "</style>\n",
       "<table border=\"1\" class=\"dataframe\">\n",
       "  <thead>\n",
       "    <tr style=\"text-align: right;\">\n",
       "      <th></th>\n",
       "      <th>temperature_2m_max</th>\n",
       "      <th>temperature_2m_min</th>\n",
       "      <th>temperature_2m_mean</th>\n",
       "      <th>apparent_temperature_max</th>\n",
       "      <th>apparent_temperature_min</th>\n",
       "      <th>apparent_temperature_mean</th>\n",
       "      <th>shortwave_radiation_sum</th>\n",
       "      <th>precipitation_sum</th>\n",
       "      <th>precipitation_hours</th>\n",
       "      <th>windspeed_10m_max</th>\n",
       "      <th>windgusts_10m_max</th>\n",
       "      <th>winddirection_10m_dominant</th>\n",
       "      <th>et0_fao_evapotranspiration</th>\n",
       "      <th>latitude</th>\n",
       "      <th>longitude</th>\n",
       "      <th>elevation</th>\n",
       "      <th>year</th>\n",
       "      <th>month</th>\n",
       "    </tr>\n",
       "  </thead>\n",
       "  <tbody>\n",
       "    <tr>\n",
       "      <th>0</th>\n",
       "      <td>30.0</td>\n",
       "      <td>22.7</td>\n",
       "      <td>26.1</td>\n",
       "      <td>34.4</td>\n",
       "      <td>25.2</td>\n",
       "      <td>29.2</td>\n",
       "      <td>20.92</td>\n",
       "      <td>5.975637</td>\n",
       "      <td>8.762524</td>\n",
       "      <td>11.7</td>\n",
       "      <td>27.4</td>\n",
       "      <td>20.0</td>\n",
       "      <td>4.58</td>\n",
       "      <td>7.0</td>\n",
       "      <td>79.899994</td>\n",
       "      <td>16.0</td>\n",
       "      <td>2010</td>\n",
       "      <td>1</td>\n",
       "    </tr>\n",
       "    <tr>\n",
       "      <th>1</th>\n",
       "      <td>29.9</td>\n",
       "      <td>23.5</td>\n",
       "      <td>26.2</td>\n",
       "      <td>33.8</td>\n",
       "      <td>26.2</td>\n",
       "      <td>29.8</td>\n",
       "      <td>17.71</td>\n",
       "      <td>0.100000</td>\n",
       "      <td>1.000000</td>\n",
       "      <td>13.0</td>\n",
       "      <td>27.0</td>\n",
       "      <td>24.0</td>\n",
       "      <td>3.84</td>\n",
       "      <td>7.0</td>\n",
       "      <td>79.899994</td>\n",
       "      <td>16.0</td>\n",
       "      <td>2010</td>\n",
       "      <td>1</td>\n",
       "    </tr>\n",
       "    <tr>\n",
       "      <th>2</th>\n",
       "      <td>29.5</td>\n",
       "      <td>23.2</td>\n",
       "      <td>26.0</td>\n",
       "      <td>34.3</td>\n",
       "      <td>26.3</td>\n",
       "      <td>29.9</td>\n",
       "      <td>17.76</td>\n",
       "      <td>0.600000</td>\n",
       "      <td>3.000000</td>\n",
       "      <td>12.3</td>\n",
       "      <td>27.4</td>\n",
       "      <td>16.0</td>\n",
       "      <td>3.65</td>\n",
       "      <td>7.0</td>\n",
       "      <td>79.899994</td>\n",
       "      <td>16.0</td>\n",
       "      <td>2010</td>\n",
       "      <td>1</td>\n",
       "    </tr>\n",
       "    <tr>\n",
       "      <th>3</th>\n",
       "      <td>28.9</td>\n",
       "      <td>21.9</td>\n",
       "      <td>25.3</td>\n",
       "      <td>31.6</td>\n",
       "      <td>23.4</td>\n",
       "      <td>27.8</td>\n",
       "      <td>16.50</td>\n",
       "      <td>5.975637</td>\n",
       "      <td>8.762524</td>\n",
       "      <td>17.0</td>\n",
       "      <td>34.6</td>\n",
       "      <td>356.0</td>\n",
       "      <td>3.79</td>\n",
       "      <td>7.0</td>\n",
       "      <td>79.899994</td>\n",
       "      <td>16.0</td>\n",
       "      <td>2010</td>\n",
       "      <td>1</td>\n",
       "    </tr>\n",
       "    <tr>\n",
       "      <th>4</th>\n",
       "      <td>28.1</td>\n",
       "      <td>21.3</td>\n",
       "      <td>24.5</td>\n",
       "      <td>30.1</td>\n",
       "      <td>23.1</td>\n",
       "      <td>26.1</td>\n",
       "      <td>23.61</td>\n",
       "      <td>5.975637</td>\n",
       "      <td>8.762524</td>\n",
       "      <td>18.7</td>\n",
       "      <td>37.1</td>\n",
       "      <td>355.0</td>\n",
       "      <td>4.97</td>\n",
       "      <td>7.0</td>\n",
       "      <td>79.899994</td>\n",
       "      <td>16.0</td>\n",
       "      <td>2010</td>\n",
       "      <td>1</td>\n",
       "    </tr>\n",
       "  </tbody>\n",
       "</table>\n",
       "</div>"
      ],
      "text/plain": [
       "   temperature_2m_max  temperature_2m_min  temperature_2m_mean  \\\n",
       "0                30.0                22.7                 26.1   \n",
       "1                29.9                23.5                 26.2   \n",
       "2                29.5                23.2                 26.0   \n",
       "3                28.9                21.9                 25.3   \n",
       "4                28.1                21.3                 24.5   \n",
       "\n",
       "   apparent_temperature_max  apparent_temperature_min  \\\n",
       "0                      34.4                      25.2   \n",
       "1                      33.8                      26.2   \n",
       "2                      34.3                      26.3   \n",
       "3                      31.6                      23.4   \n",
       "4                      30.1                      23.1   \n",
       "\n",
       "   apparent_temperature_mean  shortwave_radiation_sum  precipitation_sum  \\\n",
       "0                       29.2                    20.92           5.975637   \n",
       "1                       29.8                    17.71           0.100000   \n",
       "2                       29.9                    17.76           0.600000   \n",
       "3                       27.8                    16.50           5.975637   \n",
       "4                       26.1                    23.61           5.975637   \n",
       "\n",
       "   precipitation_hours  windspeed_10m_max  windgusts_10m_max  \\\n",
       "0             8.762524               11.7               27.4   \n",
       "1             1.000000               13.0               27.0   \n",
       "2             3.000000               12.3               27.4   \n",
       "3             8.762524               17.0               34.6   \n",
       "4             8.762524               18.7               37.1   \n",
       "\n",
       "   winddirection_10m_dominant  et0_fao_evapotranspiration  latitude  \\\n",
       "0                        20.0                        4.58       7.0   \n",
       "1                        24.0                        3.84       7.0   \n",
       "2                        16.0                        3.65       7.0   \n",
       "3                       356.0                        3.79       7.0   \n",
       "4                       355.0                        4.97       7.0   \n",
       "\n",
       "   longitude  elevation  year  month  \n",
       "0  79.899994       16.0  2010      1  \n",
       "1  79.899994       16.0  2010      1  \n",
       "2  79.899994       16.0  2010      1  \n",
       "3  79.899994       16.0  2010      1  \n",
       "4  79.899994       16.0  2010      1  "
      ]
     },
     "execution_count": 4,
     "metadata": {},
     "output_type": "execute_result"
    }
   ],
   "source": [
    "weather_data.head()"
   ]
  },
  {
   "cell_type": "markdown",
   "metadata": {
    "id": "t-0xxkPgyhNs"
   },
   "source": [
    "Selecting relevant features"
   ]
  },
  {
   "cell_type": "code",
   "execution_count": 5,
   "metadata": {
    "id": "hc8MZd3MzCCI"
   },
   "outputs": [],
   "source": [
    "features = ['temperature_2m_max', 'temperature_2m_min', 'temperature_2m_mean',\n",
    "            'apparent_temperature_max', 'apparent_temperature_min', 'apparent_temperature_mean',\n",
    "            'shortwave_radiation_sum', 'precipitation_hours', 'windspeed_10m_max', 'windgusts_10m_max',\n",
    "            'winddirection_10m_dominant', 'et0_fao_evapotranspiration', 'year', 'month']\n",
    "target = 'precipitation_sum'"
   ]
  },
  {
   "cell_type": "markdown",
   "metadata": {
    "id": "BDTrF0QFzMQX"
   },
   "source": [
    "Normalize the feature values"
   ]
  },
  {
   "cell_type": "code",
   "execution_count": 6,
   "metadata": {
    "id": "J8IGr8OczRcC"
   },
   "outputs": [],
   "source": [
    "scaler = MinMaxScaler()\n",
    "scaled_data = scaler.fit_transform(weather_data[features + [target]])\n"
   ]
  },
  {
   "cell_type": "markdown",
   "metadata": {
    "id": "7ap19y3_zzqZ"
   },
   "source": [
    "Create sequences"
   ]
  },
  {
   "cell_type": "code",
   "execution_count": 7,
   "metadata": {
    "id": "5Z6xBFUTz4pg"
   },
   "outputs": [],
   "source": [
    "def create_sequences(data, sequence_length):\n",
    "    sequences = []\n",
    "    labels = []\n",
    "    for i in range(len(data) - sequence_length):\n",
    "        sequences.append(data[i:i + sequence_length, :-1])\n",
    "        labels.append(data[i + sequence_length, -1])\n",
    "    return np.array(sequences), np.array(labels)\n",
    "\n",
    "sequence_length = 30  # example window size of 30 days\n",
    "X, y = create_sequences(scaled_data, sequence_length)"
   ]
  },
  {
   "cell_type": "markdown",
   "metadata": {
    "id": "tk8x1Je10Kbx"
   },
   "source": [
    "\n",
    "Splitting into training and testing sets"
   ]
  },
  {
   "cell_type": "code",
   "execution_count": 8,
   "metadata": {
    "colab": {
     "base_uri": "https://localhost:8080/"
    },
    "executionInfo": {
     "elapsed": 425697,
     "status": "ok",
     "timestamp": 1705569876588,
     "user": {
      "displayName": "Pasindu Wijewardhana",
      "userId": "07413258397888837331"
     },
     "user_tz": -330
    },
    "id": "FcvSxZhO0MXX",
    "outputId": "a6c06a51-d33b-41c4-b3fa-57e2a415e7f3"
   },
   "outputs": [],
   "source": [
    "train_size = int(0.8 * len(X))\n",
    "X_train, X_test = X[:train_size], X[train_size:]\n",
    "y_train, y_test = y[:train_size], y[train_size:]"
   ]
  },
  {
   "cell_type": "markdown",
   "metadata": {
    "id": "hidR0ikQ1kUu"
   },
   "source": [
    "Build RNN"
   ]
  },
  {
   "cell_type": "code",
   "execution_count": null,
   "metadata": {
    "colab": {
     "base_uri": "https://localhost:8080/"
    },
    "executionInfo": {
     "elapsed": 1834,
     "status": "ok",
     "timestamp": 1705569932084,
     "user": {
      "displayName": "Pasindu Wijewardhana",
      "userId": "07413258397888837331"
     },
     "user_tz": -330
    },
    "id": "BCIWLgnh1mXg",
    "outputId": "9654cfde-f9aa-48b9-84e0-929dba01c7dc",
    "scrolled": true
   },
   "outputs": [],
   "source": [
    "model = Sequential()\n",
    "model.add(SimpleRNN(50, activation='tanh', input_shape=(sequence_length, X_train.shape[2])))\n",
    "model.add(Dense(1))"
   ]
  },
  {
   "cell_type": "markdown",
   "metadata": {},
   "source": [
    "Compile Model"
   ]
  },
  {
   "cell_type": "code",
   "execution_count": 10,
   "metadata": {},
   "outputs": [],
   "source": [
    "model.compile(optimizer=Adam(learning_rate=0.001), loss='mse')"
   ]
  },
  {
   "cell_type": "markdown",
   "metadata": {},
   "source": [
    "Train Model"
   ]
  },
  {
   "cell_type": "code",
   "execution_count": 21,
   "metadata": {},
   "outputs": [
    {
     "name": "stdout",
     "output_type": "stream",
     "text": [
      "Epoch 1/100\n",
      "1775/1775 [==============================] - 9s 5ms/step - loss: 0.0397 - val_loss: 0.0425\n",
      "Epoch 2/100\n",
      "1775/1775 [==============================] - 9s 5ms/step - loss: 0.0392 - val_loss: 0.0423\n",
      "Epoch 3/100\n",
      "1775/1775 [==============================] - 9s 5ms/step - loss: 0.0389 - val_loss: 0.0409\n",
      "Epoch 4/100\n",
      "1775/1775 [==============================] - 9s 5ms/step - loss: 0.0386 - val_loss: 0.0416\n",
      "Epoch 5/100\n",
      "1775/1775 [==============================] - 8s 5ms/step - loss: 0.0384 - val_loss: 0.0400\n",
      "Epoch 6/100\n",
      "1775/1775 [==============================] - 9s 5ms/step - loss: 0.0379 - val_loss: 0.0400\n",
      "Epoch 7/100\n",
      "1775/1775 [==============================] - 8s 5ms/step - loss: 0.0374 - val_loss: 0.0405\n",
      "Epoch 8/100\n",
      "1775/1775 [==============================] - 9s 5ms/step - loss: 0.0373 - val_loss: 0.0405\n",
      "Epoch 9/100\n",
      "1775/1775 [==============================] - 8s 5ms/step - loss: 0.0372 - val_loss: 0.0426\n",
      "Epoch 10/100\n",
      "1775/1775 [==============================] - 10s 5ms/step - loss: 0.0370 - val_loss: 0.0406\n",
      "Epoch 11/100\n",
      "1775/1775 [==============================] - 10s 5ms/step - loss: 0.0367 - val_loss: 0.0392\n",
      "Epoch 12/100\n",
      "1775/1775 [==============================] - 9s 5ms/step - loss: 0.0365 - val_loss: 0.0395\n",
      "Epoch 13/100\n",
      "1775/1775 [==============================] - 9s 5ms/step - loss: 0.0364 - val_loss: 0.0407\n",
      "Epoch 14/100\n",
      "1775/1775 [==============================] - 8s 5ms/step - loss: 0.0360 - val_loss: 0.0404\n",
      "Epoch 15/100\n",
      "1775/1775 [==============================] - 9s 5ms/step - loss: 0.0360 - val_loss: 0.0392\n",
      "Epoch 16/100\n",
      "1775/1775 [==============================] - 9s 5ms/step - loss: 0.0359 - val_loss: 0.0385\n",
      "Epoch 17/100\n",
      "1775/1775 [==============================] - 9s 5ms/step - loss: 0.0355 - val_loss: 0.0405\n",
      "Epoch 18/100\n",
      "1775/1775 [==============================] - 9s 5ms/step - loss: 0.0355 - val_loss: 0.0387\n",
      "Epoch 19/100\n",
      "1775/1775 [==============================] - 9s 5ms/step - loss: 0.0353 - val_loss: 0.0420\n",
      "Epoch 20/100\n",
      "1775/1775 [==============================] - 9s 5ms/step - loss: 0.0353 - val_loss: 0.0392\n",
      "Epoch 21/100\n",
      "1775/1775 [==============================] - 9s 5ms/step - loss: 0.0352 - val_loss: 0.0392\n",
      "Epoch 22/100\n",
      "1775/1775 [==============================] - 9s 5ms/step - loss: 0.0349 - val_loss: 0.0393\n",
      "Epoch 23/100\n",
      "1775/1775 [==============================] - 9s 5ms/step - loss: 0.0348 - val_loss: 0.0397\n",
      "Epoch 24/100\n",
      "1775/1775 [==============================] - 10s 5ms/step - loss: 0.0346 - val_loss: 0.0389\n",
      "Epoch 25/100\n",
      "1775/1775 [==============================] - 9s 5ms/step - loss: 0.0347 - val_loss: 0.0381\n",
      "Epoch 26/100\n",
      "1775/1775 [==============================] - 9s 5ms/step - loss: 0.0346 - val_loss: 0.0386\n",
      "Epoch 27/100\n",
      "1775/1775 [==============================] - 9s 5ms/step - loss: 0.0344 - val_loss: 0.0384\n",
      "Epoch 28/100\n",
      "1775/1775 [==============================] - 9s 5ms/step - loss: 0.0345 - val_loss: 0.0403\n",
      "Epoch 29/100\n",
      "1775/1775 [==============================] - 9s 5ms/step - loss: 0.0343 - val_loss: 0.0392\n",
      "Epoch 30/100\n",
      "1775/1775 [==============================] - 9s 5ms/step - loss: 0.0342 - val_loss: 0.0398\n",
      "Epoch 31/100\n",
      "1775/1775 [==============================] - 10s 5ms/step - loss: 0.0342 - val_loss: 0.0386\n",
      "Epoch 32/100\n",
      "1775/1775 [==============================] - 9s 5ms/step - loss: 0.0339 - val_loss: 0.0393\n",
      "Epoch 33/100\n",
      "1775/1775 [==============================] - 9s 5ms/step - loss: 0.0338 - val_loss: 0.0384\n",
      "Epoch 34/100\n",
      "1775/1775 [==============================] - 9s 5ms/step - loss: 0.0339 - val_loss: 0.0438\n",
      "Epoch 35/100\n",
      "1775/1775 [==============================] - 9s 5ms/step - loss: 0.0339 - val_loss: 0.0381\n",
      "Epoch 36/100\n",
      "1775/1775 [==============================] - 9s 5ms/step - loss: 0.0339 - val_loss: 0.0388\n",
      "Epoch 37/100\n",
      "1775/1775 [==============================] - 8s 5ms/step - loss: 0.0337 - val_loss: 0.0374\n",
      "Epoch 38/100\n",
      "1775/1775 [==============================] - 9s 5ms/step - loss: 0.0336 - val_loss: 0.0390\n",
      "Epoch 39/100\n",
      "1775/1775 [==============================] - 8s 5ms/step - loss: 0.0332 - val_loss: 0.0385\n",
      "Epoch 40/100\n",
      "1775/1775 [==============================] - 9s 5ms/step - loss: 0.0335 - val_loss: 0.0387\n",
      "Epoch 41/100\n",
      "1775/1775 [==============================] - 9s 5ms/step - loss: 0.0334 - val_loss: 0.0409\n",
      "Epoch 42/100\n",
      "1775/1775 [==============================] - 9s 5ms/step - loss: 0.0334 - val_loss: 0.0376\n",
      "Epoch 43/100\n",
      "1775/1775 [==============================] - 10s 6ms/step - loss: 0.0333 - val_loss: 0.0384\n",
      "Epoch 44/100\n",
      "1775/1775 [==============================] - 9s 5ms/step - loss: 0.0333 - val_loss: 0.0379\n",
      "Epoch 45/100\n",
      "1775/1775 [==============================] - 9s 5ms/step - loss: 0.0331 - val_loss: 0.0394\n",
      "Epoch 46/100\n",
      "1775/1775 [==============================] - 9s 5ms/step - loss: 0.0330 - val_loss: 0.0391\n",
      "Epoch 47/100\n",
      "1775/1775 [==============================] - 10s 6ms/step - loss: 0.0330 - val_loss: 0.0405\n",
      "Epoch 48/100\n",
      "1775/1775 [==============================] - 10s 5ms/step - loss: 0.0332 - val_loss: 0.0382\n",
      "Epoch 49/100\n",
      "1775/1775 [==============================] - 10s 5ms/step - loss: 0.0329 - val_loss: 0.0404\n",
      "Epoch 50/100\n",
      "1775/1775 [==============================] - 9s 5ms/step - loss: 0.0328 - val_loss: 0.0380\n",
      "Epoch 51/100\n",
      "1775/1775 [==============================] - 8s 5ms/step - loss: 0.0331 - val_loss: 0.0385\n",
      "Epoch 52/100\n",
      "1775/1775 [==============================] - 9s 5ms/step - loss: 0.0327 - val_loss: 0.0377\n",
      "Epoch 53/100\n",
      "1775/1775 [==============================] - 9s 5ms/step - loss: 0.0328 - val_loss: 0.0381\n",
      "Epoch 54/100\n",
      "1775/1775 [==============================] - 9s 5ms/step - loss: 0.0329 - val_loss: 0.0386\n",
      "Epoch 55/100\n",
      "1775/1775 [==============================] - 9s 5ms/step - loss: 0.0326 - val_loss: 0.0391\n",
      "Epoch 56/100\n",
      "1775/1775 [==============================] - 9s 5ms/step - loss: 0.0328 - val_loss: 0.0381\n",
      "Epoch 57/100\n",
      "1775/1775 [==============================] - 9s 5ms/step - loss: 0.0326 - val_loss: 0.0390\n",
      "Epoch 58/100\n",
      "1775/1775 [==============================] - 9s 5ms/step - loss: 0.0325 - val_loss: 0.0380\n",
      "Epoch 59/100\n",
      "1775/1775 [==============================] - 10s 5ms/step - loss: 0.0326 - val_loss: 0.0381\n",
      "Epoch 60/100\n",
      "1775/1775 [==============================] - 9s 5ms/step - loss: 0.0324 - val_loss: 0.0379\n",
      "Epoch 61/100\n",
      "1775/1775 [==============================] - 9s 5ms/step - loss: 0.0324 - val_loss: 0.0379\n",
      "Epoch 62/100\n",
      "1775/1775 [==============================] - 9s 5ms/step - loss: 0.0324 - val_loss: 0.0383\n",
      "Epoch 63/100\n",
      "1775/1775 [==============================] - 9s 5ms/step - loss: 0.0322 - val_loss: 0.0385\n",
      "Epoch 64/100\n",
      "1775/1775 [==============================] - 9s 5ms/step - loss: 0.0324 - val_loss: 0.0381\n",
      "Epoch 65/100\n",
      "1775/1775 [==============================] - 9s 5ms/step - loss: 0.0323 - val_loss: 0.0373\n",
      "Epoch 66/100\n",
      "1775/1775 [==============================] - 9s 5ms/step - loss: 0.0323 - val_loss: 0.0446\n",
      "Epoch 67/100\n",
      "1775/1775 [==============================] - 9s 5ms/step - loss: 0.0322 - val_loss: 0.0398\n",
      "Epoch 68/100\n",
      "1775/1775 [==============================] - 9s 5ms/step - loss: 0.0322 - val_loss: 0.0404\n",
      "Epoch 69/100\n",
      "1775/1775 [==============================] - 9s 5ms/step - loss: 0.0321 - val_loss: 0.0372\n",
      "Epoch 70/100\n",
      "1775/1775 [==============================] - 9s 5ms/step - loss: 0.0322 - val_loss: 0.0376\n",
      "Epoch 71/100\n",
      "1775/1775 [==============================] - 10s 6ms/step - loss: 0.0321 - val_loss: 0.0385\n",
      "Epoch 72/100\n",
      "1775/1775 [==============================] - 9s 5ms/step - loss: 0.0320 - val_loss: 0.0408\n",
      "Epoch 73/100\n",
      "1775/1775 [==============================] - 9s 5ms/step - loss: 0.0320 - val_loss: 0.0389\n",
      "Epoch 74/100\n",
      "1775/1775 [==============================] - 9s 5ms/step - loss: 0.0322 - val_loss: 0.0403\n",
      "Epoch 75/100\n",
      "1775/1775 [==============================] - 9s 5ms/step - loss: 0.0322 - val_loss: 0.0380\n",
      "Epoch 76/100\n",
      "1775/1775 [==============================] - 9s 5ms/step - loss: 0.0319 - val_loss: 0.0387\n",
      "Epoch 77/100\n",
      "1775/1775 [==============================] - 9s 5ms/step - loss: 0.0321 - val_loss: 0.0397\n",
      "Epoch 78/100\n",
      "1775/1775 [==============================] - 9s 5ms/step - loss: 0.0318 - val_loss: 0.0386\n",
      "Epoch 79/100\n"
     ]
    },
    {
     "name": "stdout",
     "output_type": "stream",
     "text": [
      "1775/1775 [==============================] - 8s 5ms/step - loss: 0.0319 - val_loss: 0.0412\n",
      "Epoch 80/100\n",
      "1775/1775 [==============================] - 10s 5ms/step - loss: 0.0319 - val_loss: 0.0372\n",
      "Epoch 81/100\n",
      "1775/1775 [==============================] - 8s 5ms/step - loss: 0.0317 - val_loss: 0.0388\n",
      "Epoch 82/100\n",
      "1775/1775 [==============================] - 10s 6ms/step - loss: 0.0320 - val_loss: 0.0399\n",
      "Epoch 83/100\n",
      "1775/1775 [==============================] - 9s 5ms/step - loss: 0.0318 - val_loss: 0.0375\n",
      "Epoch 84/100\n",
      "1775/1775 [==============================] - 9s 5ms/step - loss: 0.0316 - val_loss: 0.0378\n",
      "Epoch 85/100\n",
      "1775/1775 [==============================] - 9s 5ms/step - loss: 0.0317 - val_loss: 0.0394\n",
      "Epoch 86/100\n",
      "1775/1775 [==============================] - 8s 5ms/step - loss: 0.0318 - val_loss: 0.0386\n",
      "Epoch 87/100\n",
      "1775/1775 [==============================] - 10s 5ms/step - loss: 0.0319 - val_loss: 0.0371\n",
      "Epoch 88/100\n",
      "1775/1775 [==============================] - 9s 5ms/step - loss: 0.0319 - val_loss: 0.0403\n",
      "Epoch 89/100\n",
      "1775/1775 [==============================] - 9s 5ms/step - loss: 0.0316 - val_loss: 0.0371\n",
      "Epoch 90/100\n",
      "1775/1775 [==============================] - 9s 5ms/step - loss: 0.0318 - val_loss: 0.0387\n",
      "Epoch 91/100\n",
      "1775/1775 [==============================] - 9s 5ms/step - loss: 0.0315 - val_loss: 0.0373\n",
      "Epoch 92/100\n",
      "1775/1775 [==============================] - 9s 5ms/step - loss: 0.0317 - val_loss: 0.0369\n",
      "Epoch 93/100\n",
      "1775/1775 [==============================] - 9s 5ms/step - loss: 0.0316 - val_loss: 0.0370\n",
      "Epoch 94/100\n",
      "1775/1775 [==============================] - 9s 5ms/step - loss: 0.0319 - val_loss: 0.0377\n",
      "Epoch 95/100\n",
      "1775/1775 [==============================] - 9s 5ms/step - loss: 0.0317 - val_loss: 0.0373\n",
      "Epoch 96/100\n",
      "1775/1775 [==============================] - 10s 5ms/step - loss: 0.0316 - val_loss: 0.0376\n",
      "Epoch 97/100\n",
      "1775/1775 [==============================] - 9s 5ms/step - loss: 0.0315 - val_loss: 0.0373\n",
      "Epoch 98/100\n",
      "1775/1775 [==============================] - 9s 5ms/step - loss: 0.0314 - val_loss: 0.0369\n",
      "Epoch 99/100\n",
      "1775/1775 [==============================] - 9s 5ms/step - loss: 0.0315 - val_loss: 0.0394\n",
      "Epoch 100/100\n",
      "1775/1775 [==============================] - 9s 5ms/step - loss: 0.0314 - val_loss: 0.0377\n"
     ]
    }
   ],
   "source": [
    "history = model.fit(X_train, y_train, epochs=100, batch_size=40, validation_data=(X_test, y_test))"
   ]
  },
  {
   "cell_type": "markdown",
   "metadata": {},
   "source": [
    "Evaluate the model"
   ]
  },
  {
   "cell_type": "code",
   "execution_count": 22,
   "metadata": {},
   "outputs": [
    {
     "name": "stdout",
     "output_type": "stream",
     "text": [
      "555/555 [==============================] - 1s 2ms/step\n"
     ]
    }
   ],
   "source": [
    "y_pred = model.predict(X_test)\n",
    "mse = mean_squared_error(y_test, y_pred)\n",
    "mae = mean_absolute_error(y_test, y_pred)"
   ]
  },
  {
   "cell_type": "markdown",
   "metadata": {},
   "source": [
    "Print evaluation metrics"
   ]
  },
  {
   "cell_type": "code",
   "execution_count": 23,
   "metadata": {},
   "outputs": [
    {
     "name": "stdout",
     "output_type": "stream",
     "text": [
      "Mean Squared Error: 0.03770828978615929\n",
      "Mean Absolute Error: 0.15110067445379025\n"
     ]
    }
   ],
   "source": [
    "print(f\"Mean Squared Error: {mse}\")\n",
    "print(f\"Mean Absolute Error: {mae}\")"
   ]
  },
  {
   "cell_type": "markdown",
   "metadata": {},
   "source": [
    "Plot training and validation loss"
   ]
  },
  {
   "cell_type": "code",
   "execution_count": 24,
   "metadata": {},
   "outputs": [
    {
     "data": {
      "image/png": "[encoded data removed]",
      "text/plain": [
       "<Figure size 640x480 with 1 Axes>"
      ]
     },
     "metadata": {},
     "output_type": "display_data"
    }
   ],
   "source": [
    "plt.plot(history.history['loss'], label='Training Loss')\n",
    "plt.plot(history.history['val_loss'], label='Validation Loss')\n",
    "plt.title('Loss Over Epochs')\n",
    "plt.xlabel('Epochs')\n",
    "plt.ylabel('Loss')\n",
    "plt.legend()\n",
    "plt.show()"
   ]
  },
  {
   "cell_type": "code",
   "execution_count": null,
   "metadata": {},
   "outputs": [],
   "source": []
  }
 ],
 "metadata": {
  "colab": {
   "authorship_tag": "ABX9TyN8RCjeDMnDQZb9jea5bR5R",
   "provenance": []
  },
  "kernelspec": {
   "display_name": "Python 3 (ipykernel)",
   "language": "python",
   "name": "python3"
  },
  "language_info": {
   "codemirror_mode": {
    "name": "ipython",
    "version": 3
   },
   "file_extension": ".py",
   "mimetype": "text/x-python",
   "name": "python",
   "nbconvert_exporter": "python",
   "pygments_lexer": "ipython3",
   "version": "3.11.4"
  }
 },
 "nbformat": 4,
 "nbformat_minor": 4
}
