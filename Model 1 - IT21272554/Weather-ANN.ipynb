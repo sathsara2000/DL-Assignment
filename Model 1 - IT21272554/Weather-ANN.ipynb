{
 "cells": [
  {
   "cell_type": "markdown",
   "metadata": {
    "id": "JdGT2ozcxifi"
   },
   "source": [
    "Import the libraries"
   ]
  },
  {
   "cell_type": "markdown",
   "metadata": {
    "id": "pE4e9nFwBKu3"
   },
   "source": [
    "# ANN Model"
   ]
  },
  {
   "cell_type": "code",
   "execution_count": 6,
   "metadata": {
    "id": "dDk_XS4Oxg7C"
   },
   "outputs": [],
   "source": [
    "import numpy as np\n",
    "import pandas as pd\n",
    "from sklearn.model_selection import train_test_split\n",
    "from sklearn.preprocessing import StandardScaler\n",
    "from sklearn.metrics import mean_squared_error, r2_score\n",
    "import tensorflow as tf\n",
    "from tensorflow.keras import layers, models"
   ]
  },
  {
   "cell_type": "markdown",
   "metadata": {
    "id": "RavRwdXlyJZ_"
   },
   "source": [
    "Import the dataset"
   ]
  },
  {
   "cell_type": "code",
   "execution_count": 9,
   "metadata": {
    "id": "EGjDLzNhyLYs"
   },
   "outputs": [],
   "source": [
    "dataset=pd.read_csv(\"preprocessed_weather.csv\")\n",
    "X=dataset.iloc[:,[i for i in range(13)if i!=7] ].values\n",
    "Y=dataset.iloc[:,7:8].values"
   ]
  },
  {
   "cell_type": "markdown",
   "metadata": {
    "id": "cBFiKLJgyWcr"
   },
   "source": [
    "Spliit the data in to test and training"
   ]
  },
  {
   "cell_type": "code",
   "execution_count": 10,
   "metadata": {
    "id": "oUKekV03ycgh"
   },
   "outputs": [],
   "source": [
    "from sklearn.model_selection import train_test_split\n",
    "x_train,x_test,y_train,y_test=train_test_split(X,Y, test_size=0.25, random_state=42)"
   ]
  },
  {
   "cell_type": "markdown",
   "metadata": {
    "id": "t-0xxkPgyhNs"
   },
   "source": [
    "scaling the features"
   ]
  },
  {
   "cell_type": "code",
   "execution_count": 11,
   "metadata": {
    "id": "hc8MZd3MzCCI"
   },
   "outputs": [],
   "source": [
    "scaler = StandardScaler()\n",
    "x_train_scaled = scaler.fit_transform(x_train)\n",
    "x_test_scaled = scaler.transform(x_test)"
   ]
  },
  {
   "cell_type": "markdown",
   "metadata": {
    "id": "BDTrF0QFzMQX"
   },
   "source": [
    "Build the ANN model"
   ]
  },
  {
   "cell_type": "code",
   "execution_count": 12,
   "metadata": {
    "id": "J8IGr8OczRcC"
   },
   "outputs": [],
   "source": [
    "ann = models.Sequential()\n",
    "ann.add(layers.Dense(128, activation='relu', input_shape=(x_train.shape[1],)))\n",
    "ann.add(layers.Dense(32, activation='relu'))\n",
    "ann.add(layers.Dense(1, activation='linear'))"
   ]
  },
  {
   "cell_type": "markdown",
   "metadata": {
    "id": "7ap19y3_zzqZ"
   },
   "source": [
    "Compile the model"
   ]
  },
  {
   "cell_type": "code",
   "execution_count": 13,
   "metadata": {
    "id": "5Z6xBFUTz4pg"
   },
   "outputs": [],
   "source": [
    "ann.compile(optimizer='adam', loss='mean_squared_error', metrics=['mae'])"
   ]
  },
  {
   "cell_type": "markdown",
   "metadata": {
    "id": "tk8x1Je10Kbx"
   },
   "source": [
    "Train the model"
   ]
  },
  {
   "cell_type": "code",
   "execution_count": 14,
   "metadata": {
    "colab": {
     "base_uri": "https://localhost:8080/"
    },
    "executionInfo": {
     "elapsed": 425697,
     "status": "ok",
     "timestamp": 1705569876588,
     "user": {
      "displayName": "Pasindu Wijewardhana",
      "userId": "07413258397888837331"
     },
     "user_tz": -330
    },
    "id": "FcvSxZhO0MXX",
    "outputId": "a6c06a51-d33b-41c4-b3fa-57e2a415e7f3"
   },
   "outputs": [
    {
     "name": "stdout",
     "output_type": "stream",
     "text": [
      "Epoch 1/100\n",
      "1664/1664 [==============================] - 4s 2ms/step - loss: 6.3232 - mae: 1.8145 - val_loss: 4.8194 - val_mae: 1.5863\n",
      "Epoch 2/100\n",
      "1664/1664 [==============================] - 2s 1ms/step - loss: 4.9374 - mae: 1.5848 - val_loss: 4.6381 - val_mae: 1.5672\n",
      "Epoch 3/100\n",
      "1664/1664 [==============================] - 2s 1ms/step - loss: 4.7642 - mae: 1.5402 - val_loss: 4.4673 - val_mae: 1.4718\n",
      "Epoch 4/100\n",
      "1664/1664 [==============================] - 2s 1ms/step - loss: 4.6770 - mae: 1.5179 - val_loss: 4.3601 - val_mae: 1.4575\n",
      "Epoch 5/100\n",
      "1664/1664 [==============================] - 2s 1ms/step - loss: 4.5977 - mae: 1.4966 - val_loss: 4.3705 - val_mae: 1.4595\n",
      "Epoch 6/100\n",
      "1664/1664 [==============================] - 2s 1ms/step - loss: 4.5480 - mae: 1.4819 - val_loss: 4.3699 - val_mae: 1.4731\n",
      "Epoch 7/100\n",
      "1664/1664 [==============================] - 2s 1ms/step - loss: 4.4981 - mae: 1.4715 - val_loss: 4.2864 - val_mae: 1.4588\n",
      "Epoch 8/100\n",
      "1664/1664 [==============================] - 3s 2ms/step - loss: 4.4614 - mae: 1.4634 - val_loss: 4.2308 - val_mae: 1.4297\n",
      "Epoch 9/100\n",
      "1664/1664 [==============================] - 2s 1ms/step - loss: 4.4198 - mae: 1.4527 - val_loss: 4.1594 - val_mae: 1.4116\n",
      "Epoch 10/100\n",
      "1664/1664 [==============================] - 2s 1ms/step - loss: 4.3812 - mae: 1.4444 - val_loss: 4.1766 - val_mae: 1.4173\n",
      "Epoch 11/100\n",
      "1664/1664 [==============================] - 2s 1ms/step - loss: 4.3571 - mae: 1.4366 - val_loss: 4.1931 - val_mae: 1.4288\n",
      "Epoch 12/100\n",
      "1664/1664 [==============================] - 2s 1ms/step - loss: 4.3159 - mae: 1.4279 - val_loss: 4.1481 - val_mae: 1.3887\n",
      "Epoch 13/100\n",
      "1664/1664 [==============================] - 2s 1ms/step - loss: 4.2926 - mae: 1.4229 - val_loss: 4.0962 - val_mae: 1.3831\n",
      "Epoch 14/100\n",
      "1664/1664 [==============================] - 2s 1ms/step - loss: 4.2655 - mae: 1.4158 - val_loss: 4.1007 - val_mae: 1.3795\n",
      "Epoch 15/100\n",
      "1664/1664 [==============================] - 3s 2ms/step - loss: 4.2399 - mae: 1.4102 - val_loss: 4.0996 - val_mae: 1.4033\n",
      "Epoch 16/100\n",
      "1664/1664 [==============================] - 2s 1ms/step - loss: 4.2164 - mae: 1.4061 - val_loss: 4.2273 - val_mae: 1.4333\n",
      "Epoch 17/100\n",
      "1664/1664 [==============================] - 2s 1ms/step - loss: 4.1820 - mae: 1.4010 - val_loss: 4.0159 - val_mae: 1.3733\n",
      "Epoch 18/100\n",
      "1664/1664 [==============================] - 2s 1ms/step - loss: 4.1605 - mae: 1.3948 - val_loss: 4.0773 - val_mae: 1.3723\n",
      "Epoch 19/100\n",
      "1664/1664 [==============================] - 2s 1ms/step - loss: 4.1370 - mae: 1.3895 - val_loss: 4.0900 - val_mae: 1.4349\n",
      "Epoch 20/100\n",
      "1664/1664 [==============================] - 2s 1ms/step - loss: 4.1218 - mae: 1.3863 - val_loss: 3.9967 - val_mae: 1.3797\n",
      "Epoch 21/100\n",
      "1664/1664 [==============================] - 2s 1ms/step - loss: 4.0864 - mae: 1.3781 - val_loss: 3.9651 - val_mae: 1.3503\n",
      "Epoch 22/100\n",
      "1664/1664 [==============================] - 3s 2ms/step - loss: 4.0886 - mae: 1.3793 - val_loss: 3.9961 - val_mae: 1.3754\n",
      "Epoch 23/100\n",
      "1664/1664 [==============================] - 2s 1ms/step - loss: 4.0552 - mae: 1.3705 - val_loss: 4.0858 - val_mae: 1.3419\n",
      "Epoch 24/100\n",
      "1664/1664 [==============================] - 2s 1ms/step - loss: 4.0373 - mae: 1.3678 - val_loss: 4.0099 - val_mae: 1.3782\n",
      "Epoch 25/100\n",
      "1664/1664 [==============================] - 2s 1ms/step - loss: 4.0154 - mae: 1.3637 - val_loss: 4.0030 - val_mae: 1.3630\n",
      "Epoch 26/100\n",
      "1664/1664 [==============================] - 2s 1ms/step - loss: 3.9886 - mae: 1.3595 - val_loss: 3.9712 - val_mae: 1.3382\n",
      "Epoch 27/100\n",
      "1664/1664 [==============================] - 2s 1ms/step - loss: 3.9830 - mae: 1.3556 - val_loss: 3.9326 - val_mae: 1.3386\n",
      "Epoch 28/100\n",
      "1664/1664 [==============================] - 2s 1ms/step - loss: 3.9577 - mae: 1.3515 - val_loss: 3.9114 - val_mae: 1.3413\n",
      "Epoch 29/100\n",
      "1664/1664 [==============================] - 3s 2ms/step - loss: 3.9356 - mae: 1.3460 - val_loss: 3.9970 - val_mae: 1.3796\n",
      "Epoch 30/100\n",
      "1664/1664 [==============================] - 2s 1ms/step - loss: 3.9332 - mae: 1.3454 - val_loss: 3.9686 - val_mae: 1.3184\n",
      "Epoch 31/100\n",
      "1664/1664 [==============================] - 2s 1ms/step - loss: 3.9288 - mae: 1.3444 - val_loss: 3.9429 - val_mae: 1.3254\n",
      "Epoch 32/100\n",
      "1664/1664 [==============================] - 2s 1ms/step - loss: 3.9191 - mae: 1.3438 - val_loss: 3.8495 - val_mae: 1.3273\n",
      "Epoch 33/100\n",
      "1664/1664 [==============================] - 2s 1ms/step - loss: 3.8858 - mae: 1.3361 - val_loss: 3.8190 - val_mae: 1.3043\n",
      "Epoch 34/100\n",
      "1664/1664 [==============================] - 2s 1ms/step - loss: 3.8712 - mae: 1.3327 - val_loss: 3.8292 - val_mae: 1.3305\n",
      "Epoch 35/100\n",
      "1664/1664 [==============================] - 2s 1ms/step - loss: 3.8491 - mae: 1.3258 - val_loss: 3.8561 - val_mae: 1.3468\n",
      "Epoch 36/100\n",
      "1664/1664 [==============================] - 3s 2ms/step - loss: 3.8344 - mae: 1.3262 - val_loss: 3.8432 - val_mae: 1.3232\n",
      "Epoch 37/100\n",
      "1664/1664 [==============================] - 2s 1ms/step - loss: 3.8224 - mae: 1.3210 - val_loss: 3.8259 - val_mae: 1.3204\n",
      "Epoch 38/100\n",
      "1664/1664 [==============================] - 2s 1ms/step - loss: 3.8021 - mae: 1.3201 - val_loss: 3.8976 - val_mae: 1.3520\n",
      "Epoch 39/100\n",
      "1664/1664 [==============================] - 2s 1ms/step - loss: 3.8074 - mae: 1.3199 - val_loss: 3.7915 - val_mae: 1.3196\n",
      "Epoch 40/100\n",
      "1664/1664 [==============================] - 2s 1ms/step - loss: 3.7787 - mae: 1.3159 - val_loss: 3.8031 - val_mae: 1.3080\n",
      "Epoch 41/100\n",
      "1664/1664 [==============================] - 2s 1ms/step - loss: 3.7817 - mae: 1.3166 - val_loss: 3.8398 - val_mae: 1.3638\n",
      "Epoch 42/100\n",
      "1664/1664 [==============================] - 2s 1ms/step - loss: 3.7552 - mae: 1.3116 - val_loss: 3.8180 - val_mae: 1.3293\n",
      "Epoch 43/100\n",
      "1664/1664 [==============================] - 3s 2ms/step - loss: 3.7406 - mae: 1.3054 - val_loss: 3.8865 - val_mae: 1.3359\n",
      "Epoch 44/100\n",
      "1664/1664 [==============================] - 3s 2ms/step - loss: 3.7286 - mae: 1.3050 - val_loss: 3.9542 - val_mae: 1.3744\n",
      "Epoch 45/100\n",
      "1664/1664 [==============================] - 2s 1ms/step - loss: 3.7242 - mae: 1.3046 - val_loss: 3.7789 - val_mae: 1.2936\n",
      "Epoch 46/100\n",
      "1664/1664 [==============================] - 2s 1ms/step - loss: 3.6963 - mae: 1.3001 - val_loss: 3.7973 - val_mae: 1.3203\n",
      "Epoch 47/100\n",
      "1664/1664 [==============================] - 2s 1ms/step - loss: 3.6938 - mae: 1.2982 - val_loss: 3.7977 - val_mae: 1.3123\n",
      "Epoch 48/100\n",
      "1664/1664 [==============================] - 2s 1ms/step - loss: 3.6726 - mae: 1.2940 - val_loss: 3.7842 - val_mae: 1.3311\n",
      "Epoch 49/100\n",
      "1664/1664 [==============================] - 2s 1ms/step - loss: 3.6632 - mae: 1.2939 - val_loss: 3.7530 - val_mae: 1.2887\n",
      "Epoch 50/100\n",
      "1664/1664 [==============================] - 3s 2ms/step - loss: 3.6520 - mae: 1.2901 - val_loss: 3.7517 - val_mae: 1.3116\n",
      "Epoch 51/100\n",
      "1664/1664 [==============================] - 2s 1ms/step - loss: 3.6331 - mae: 1.2881 - val_loss: 3.6913 - val_mae: 1.2804\n",
      "Epoch 52/100\n",
      "1664/1664 [==============================] - 2s 1ms/step - loss: 3.6181 - mae: 1.2830 - val_loss: 3.7510 - val_mae: 1.2942\n",
      "Epoch 53/100\n",
      "1664/1664 [==============================] - 2s 1ms/step - loss: 3.6073 - mae: 1.2829 - val_loss: 3.7841 - val_mae: 1.2982\n",
      "Epoch 54/100\n",
      "1664/1664 [==============================] - 2s 1ms/step - loss: 3.5934 - mae: 1.2797 - val_loss: 3.9840 - val_mae: 1.3749\n",
      "Epoch 55/100\n",
      "1664/1664 [==============================] - 2s 1ms/step - loss: 3.5903 - mae: 1.2793 - val_loss: 3.6795 - val_mae: 1.3062\n",
      "Epoch 56/100\n",
      "1664/1664 [==============================] - 2s 1ms/step - loss: 3.5700 - mae: 1.2769 - val_loss: 3.6641 - val_mae: 1.2879\n",
      "Epoch 57/100\n",
      "1664/1664 [==============================] - 3s 2ms/step - loss: 3.5581 - mae: 1.2703 - val_loss: 3.6744 - val_mae: 1.2876\n",
      "Epoch 58/100\n",
      "1664/1664 [==============================] - 2s 1ms/step - loss: 3.5458 - mae: 1.2688 - val_loss: 3.6252 - val_mae: 1.2797\n",
      "Epoch 59/100\n",
      "1664/1664 [==============================] - 2s 1ms/step - loss: 3.5246 - mae: 1.2665 - val_loss: 3.7475 - val_mae: 1.2953\n",
      "Epoch 60/100\n",
      "1664/1664 [==============================] - 2s 1ms/step - loss: 3.5101 - mae: 1.2633 - val_loss: 3.8823 - val_mae: 1.3434\n",
      "Epoch 61/100\n"
     ]
    },
    {
     "name": "stdout",
     "output_type": "stream",
     "text": [
      "1664/1664 [==============================] - 2s 1ms/step - loss: 3.5002 - mae: 1.2595 - val_loss: 3.6554 - val_mae: 1.2777\n",
      "Epoch 62/100\n",
      "1664/1664 [==============================] - 2s 1ms/step - loss: 3.4851 - mae: 1.2582 - val_loss: 3.5969 - val_mae: 1.2616\n",
      "Epoch 63/100\n",
      "1664/1664 [==============================] - 2s 1ms/step - loss: 3.4711 - mae: 1.2548 - val_loss: 3.5835 - val_mae: 1.2747\n",
      "Epoch 64/100\n",
      "1664/1664 [==============================] - 3s 2ms/step - loss: 3.4778 - mae: 1.2527 - val_loss: 3.5961 - val_mae: 1.2822\n",
      "Epoch 65/100\n",
      "1664/1664 [==============================] - 2s 1ms/step - loss: 3.4537 - mae: 1.2505 - val_loss: 3.6676 - val_mae: 1.2830\n",
      "Epoch 66/100\n",
      "1664/1664 [==============================] - 2s 1ms/step - loss: 3.4331 - mae: 1.2480 - val_loss: 3.5864 - val_mae: 1.2447\n",
      "Epoch 67/100\n",
      "1664/1664 [==============================] - 2s 1ms/step - loss: 3.4246 - mae: 1.2431 - val_loss: 3.6205 - val_mae: 1.2729\n",
      "Epoch 68/100\n",
      "1664/1664 [==============================] - 2s 1ms/step - loss: 3.4152 - mae: 1.2428 - val_loss: 3.6316 - val_mae: 1.2632\n",
      "Epoch 69/100\n",
      "1664/1664 [==============================] - 2s 1ms/step - loss: 3.4115 - mae: 1.2422 - val_loss: 3.6061 - val_mae: 1.2575\n",
      "Epoch 70/100\n",
      "1664/1664 [==============================] - 2s 1ms/step - loss: 3.3936 - mae: 1.2368 - val_loss: 3.6137 - val_mae: 1.2759\n",
      "Epoch 71/100\n",
      "1664/1664 [==============================] - 3s 2ms/step - loss: 3.3608 - mae: 1.2303 - val_loss: 3.6265 - val_mae: 1.2841\n",
      "Epoch 72/100\n",
      "1664/1664 [==============================] - 2s 1ms/step - loss: 3.3755 - mae: 1.2303 - val_loss: 3.5927 - val_mae: 1.2483\n",
      "Epoch 73/100\n",
      "1664/1664 [==============================] - 2s 1ms/step - loss: 3.3523 - mae: 1.2279 - val_loss: 3.6671 - val_mae: 1.2704\n",
      "Epoch 74/100\n",
      "1664/1664 [==============================] - 2s 1ms/step - loss: 3.3461 - mae: 1.2247 - val_loss: 3.5526 - val_mae: 1.2727\n",
      "Epoch 75/100\n",
      "1664/1664 [==============================] - 2s 1ms/step - loss: 3.3342 - mae: 1.2245 - val_loss: 3.5643 - val_mae: 1.2793\n",
      "Epoch 76/100\n",
      "1664/1664 [==============================] - 2s 1ms/step - loss: 3.3210 - mae: 1.2222 - val_loss: 3.5888 - val_mae: 1.2598\n",
      "Epoch 77/100\n",
      "1664/1664 [==============================] - 2s 1ms/step - loss: 3.3035 - mae: 1.2173 - val_loss: 3.6810 - val_mae: 1.3010\n",
      "Epoch 78/100\n",
      "1664/1664 [==============================] - 3s 2ms/step - loss: 3.3151 - mae: 1.2184 - val_loss: 3.6056 - val_mae: 1.2813\n",
      "Epoch 79/100\n",
      "1664/1664 [==============================] - 2s 1ms/step - loss: 3.2881 - mae: 1.2145 - val_loss: 3.5297 - val_mae: 1.2589\n",
      "Epoch 80/100\n",
      "1664/1664 [==============================] - 2s 1ms/step - loss: 3.2971 - mae: 1.2149 - val_loss: 3.5551 - val_mae: 1.2413\n",
      "Epoch 81/100\n",
      "1664/1664 [==============================] - 2s 1ms/step - loss: 3.2709 - mae: 1.2095 - val_loss: 3.5276 - val_mae: 1.2661\n",
      "Epoch 82/100\n",
      "1664/1664 [==============================] - 2s 1ms/step - loss: 3.2716 - mae: 1.2130 - val_loss: 3.5493 - val_mae: 1.2588\n",
      "Epoch 83/100\n",
      "1664/1664 [==============================] - 2s 1ms/step - loss: 3.2572 - mae: 1.2092 - val_loss: 3.5269 - val_mae: 1.2516\n",
      "Epoch 84/100\n",
      "1664/1664 [==============================] - 2s 1ms/step - loss: 3.2459 - mae: 1.2051 - val_loss: 3.5157 - val_mae: 1.2494\n",
      "Epoch 85/100\n",
      "1664/1664 [==============================] - 3s 2ms/step - loss: 3.2367 - mae: 1.2030 - val_loss: 3.5658 - val_mae: 1.2691\n",
      "Epoch 86/100\n",
      "1664/1664 [==============================] - 2s 1ms/step - loss: 3.2260 - mae: 1.2014 - val_loss: 3.6048 - val_mae: 1.2631\n",
      "Epoch 87/100\n",
      "1664/1664 [==============================] - 2s 1ms/step - loss: 3.2155 - mae: 1.1986 - val_loss: 3.5070 - val_mae: 1.2365\n",
      "Epoch 88/100\n",
      "1664/1664 [==============================] - 2s 1ms/step - loss: 3.1996 - mae: 1.1957 - val_loss: 3.5591 - val_mae: 1.2349\n",
      "Epoch 89/100\n",
      "1664/1664 [==============================] - 2s 1ms/step - loss: 3.2092 - mae: 1.1981 - val_loss: 3.5124 - val_mae: 1.2326\n",
      "Epoch 90/100\n",
      "1664/1664 [==============================] - 2s 1ms/step - loss: 3.1878 - mae: 1.1940 - val_loss: 3.5305 - val_mae: 1.2599\n",
      "Epoch 91/100\n",
      "1664/1664 [==============================] - 2s 1ms/step - loss: 3.1898 - mae: 1.1930 - val_loss: 3.5102 - val_mae: 1.2324\n",
      "Epoch 92/100\n",
      "1664/1664 [==============================] - 3s 2ms/step - loss: 3.1697 - mae: 1.1891 - val_loss: 3.4789 - val_mae: 1.2376\n",
      "Epoch 93/100\n",
      "1664/1664 [==============================] - 3s 2ms/step - loss: 3.1713 - mae: 1.1903 - val_loss: 3.5151 - val_mae: 1.2430\n",
      "Epoch 94/100\n",
      "1664/1664 [==============================] - 2s 1ms/step - loss: 3.1588 - mae: 1.1874 - val_loss: 3.4978 - val_mae: 1.2430\n",
      "Epoch 95/100\n",
      "1664/1664 [==============================] - 2s 1ms/step - loss: 3.1561 - mae: 1.1857 - val_loss: 3.5367 - val_mae: 1.2509\n",
      "Epoch 96/100\n",
      "1664/1664 [==============================] - 2s 1ms/step - loss: 3.1437 - mae: 1.1823 - val_loss: 3.5870 - val_mae: 1.2842\n",
      "Epoch 97/100\n",
      "1664/1664 [==============================] - 2s 1ms/step - loss: 3.1408 - mae: 1.1816 - val_loss: 3.6241 - val_mae: 1.2499\n",
      "Epoch 98/100\n",
      "1664/1664 [==============================] - 3s 2ms/step - loss: 3.1201 - mae: 1.1791 - val_loss: 3.5652 - val_mae: 1.2698\n",
      "Epoch 99/100\n",
      "1664/1664 [==============================] - 3s 2ms/step - loss: 3.1129 - mae: 1.1765 - val_loss: 3.5875 - val_mae: 1.2429\n",
      "Epoch 100/100\n",
      "1664/1664 [==============================] - 2s 1ms/step - loss: 3.1074 - mae: 1.1771 - val_loss: 3.5064 - val_mae: 1.2443\n"
     ]
    },
    {
     "data": {
      "text/plain": [
       "<keras.src.callbacks.History at 0x20add149fd0>"
      ]
     },
     "execution_count": 14,
     "metadata": {},
     "output_type": "execute_result"
    }
   ],
   "source": [
    "ann.fit(x_train_scaled,y_train, epochs=100, batch_size=32, validation_split=0.2)"
   ]
  },
  {
   "cell_type": "markdown",
   "metadata": {
    "id": "hidR0ikQ1kUu"
   },
   "source": [
    "Evaluate the model"
   ]
  },
  {
   "cell_type": "code",
   "execution_count": 15,
   "metadata": {
    "colab": {
     "base_uri": "https://localhost:8080/"
    },
    "executionInfo": {
     "elapsed": 1834,
     "status": "ok",
     "timestamp": 1705569932084,
     "user": {
      "displayName": "Pasindu Wijewardhana",
      "userId": "07413258397888837331"
     },
     "user_tz": -330
    },
    "id": "BCIWLgnh1mXg",
    "outputId": "9654cfde-f9aa-48b9-84e0-929dba01c7dc"
   },
   "outputs": [
    {
     "name": "stdout",
     "output_type": "stream",
     "text": [
      "694/694 [==============================] - 1s 1ms/step\n",
      "Mean Squared Error on Test Set: 3.7183684366761462\n",
      "R^2 Score on Test Set: 0.737840247261029\n"
     ]
    }
   ],
   "source": [
    "y_pred = ann.predict(x_test_scaled)\n",
    "mse = mean_squared_error(y_test, y_pred)\n",
    "r2 = r2_score(y_test, y_pred)\n",
    "\n",
    "print(f\"Mean Squared Error on Test Set: {mse}\")\n",
    "print(f\"R^2 Score on Test Set: {r2}\")"
   ]
  },
  {
   "cell_type": "code",
   "execution_count": null,
   "metadata": {},
   "outputs": [],
   "source": []
  }
 ],
 "metadata": {
  "colab": {
   "authorship_tag": "ABX9TyN8RCjeDMnDQZb9jea5bR5R",
   "provenance": []
  },
  "kernelspec": {
   "display_name": "Python 3 (ipykernel)",
   "language": "python",
   "name": "python3"
  },
  "language_info": {
   "codemirror_mode": {
    "name": "ipython",
    "version": 3
   },
   "file_extension": ".py",
   "mimetype": "text/x-python",
   "name": "python",
   "nbconvert_exporter": "python",
   "pygments_lexer": "ipython3",
   "version": "3.11.4"
  }
 },
 "nbformat": 4,
 "nbformat_minor": 1
}
